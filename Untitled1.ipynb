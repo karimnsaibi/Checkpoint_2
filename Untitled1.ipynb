{
 "cells": [
  {
   "cell_type": "code",
   "execution_count": 15,
   "id": "6de6c145",
   "metadata": {},
   "outputs": [
    {
     "name": "stdout",
     "output_type": "stream",
     "text": [
      "[2002, 2009, 2016, 2023, 2037, 2044, 2051, 2058, 2072, 2079, 2086, 2093, 2107, 2114, 2121, 2128, 2142, 2149, 2156, 2163, 2177, 2184, 2191, 2198, 2212, 2219, 2226, 2233, 2247, 2254, 2261, 2268, 2282, 2289, 2296, 2303, 2317, 2324, 2331, 2338, 2352, 2359, 2366, 2373, 2387, 2394, 2401, 2408, 2422, 2429, 2436, 2443, 2457, 2464, 2471, 2478, 2492, 2499, 2506, 2513, 2527, 2534, 2541, 2548, 2562, 2569, 2576, 2583, 2597, 2604, 2611, 2618, 2632, 2639, 2646, 2653, 2667, 2674, 2681, 2688, 2702, 2709, 2716, 2723, 2737, 2744, 2751, 2758, 2772, 2779, 2786, 2793, 2807, 2814, 2821, 2828, 2842, 2849, 2856, 2863, 2877, 2884, 2891, 2898, 2912, 2919, 2926, 2933, 2947, 2954, 2961, 2968, 2982, 2989, 2996, 3003, 3017, 3024, 3031, 3038, 3052, 3059, 3066, 3073, 3087, 3094, 3101, 3108, 3122, 3129, 3136, 3143, 3157, 3164, 3171, 3178, 3192, 3199]\n"
     ]
    }
   ],
   "source": [
    "# Question 1 : \n",
    "MyList = []\n",
    "for x in range (2000,3201):\n",
    "    if x % 7 == 0 and x % 5 != 0 :\n",
    "        MyList.append(x)\n",
    "print(MyList)"
   ]
  },
  {
   "cell_type": "code",
   "execution_count": 2,
   "id": "b22ba9ad",
   "metadata": {},
   "outputs": [
    {
     "name": "stdout",
     "output_type": "stream",
     "text": [
      "n=5\n",
      "f= 120\n"
     ]
    }
   ],
   "source": [
    "# Question 2 :\n",
    "n = int(input(\"n=\"))\n",
    "f = 1\n",
    "for x in range (1,n+1):\n",
    "    f =f * x\n",
    "print (\"f=\",f)"
   ]
  },
  {
   "cell_type": "code",
   "execution_count": 47,
   "id": "41635bc5",
   "metadata": {},
   "outputs": [
    {
     "name": "stdout",
     "output_type": "stream",
     "text": [
      "n=7\n",
      "{1: 1, 2: 4, 3: 9, 4: 16, 5: 25, 6: 36, 7: 49}\n"
     ]
    }
   ],
   "source": [
    "# Question 3 :\n",
    "n = int(input(\"n=\"))\n",
    "dct = {x : x*x for x in range(1, n+1)}\n",
    "print(dct)"
   ]
  },
  {
   "cell_type": "code",
   "execution_count": 46,
   "id": "6ff59c24",
   "metadata": {},
   "outputs": [
    {
     "name": "stdout",
     "output_type": "stream",
     "text": [
      "give a string : name\n",
      "missing char = 2\n",
      "nae\n"
     ]
    }
   ],
   "source": [
    "# Question 4 :\n",
    "s=str(input(\"give a string : \"))\n",
    "n=int(input(\"missing char = \"))\n",
    "def remove_char(s, n):\n",
    "      first_part = s[:n] \n",
    "      last_part = s[n+1:]\n",
    "      return first_part + last_part\n",
    "print(remove_char(s, n))\n"
   ]
  },
  {
   "cell_type": "code",
   "execution_count": 32,
   "id": "cbd2e2a5",
   "metadata": {
    "scrolled": true
   },
   "outputs": [
    {
     "name": "stdout",
     "output_type": "stream",
     "text": [
      "array :  [[1 2 3 4]\n",
      " [5 6 7 8]]\n",
      "new_list :  [[1, 2, 3, 4], [5, 6, 7, 8]]\n"
     ]
    }
   ],
   "source": [
    "# Question 5 :\n",
    "import numpy as np\n",
    "arr = np.array([[1, 2, 3, 4],[5, 6, 7, 8]])\n",
    "print(\"array : \",arr)\n",
    "new_list = arr.tolist()\n",
    "print(\"new_list : \",new_list)  "
   ]
  },
  {
   "cell_type": "code",
   "execution_count": 35,
   "id": "a33b1f98",
   "metadata": {},
   "outputs": [
    {
     "name": "stdout",
     "output_type": "stream",
     "text": [
      "[[ 1. -1.]\n",
      " [-1.  1.]]\n"
     ]
    }
   ],
   "source": [
    "# Question 5 :\n",
    "import numpy as np\n",
    "array_1 = np.array([0,1,2])\n",
    "array_2 = np.array([2,1,0])\n",
    "print(np.cov(array_1, array_2))"
   ]
  },
  {
   "cell_type": "code",
   "execution_count": 45,
   "id": "bda80501",
   "metadata": {},
   "outputs": [
    {
     "name": "stdout",
     "output_type": "stream",
     "text": [
      "Provide D: 100,150,200\n",
      "[18, 22, 26]\n"
     ]
    }
   ],
   "source": [
    "import math\n",
    "\n",
    "numbers = input(\"Provide D: \")\n",
    "numbers = numbers.split(',')\n",
    "\n",
    "result_list = []\n",
    "for D in numbers:\n",
    "    Q = round(math.sqrt(2 * 50 * int(D) / 30))\n",
    "    result_list.append(Q)\n",
    "\n",
    "print(result_list)"
   ]
  }
 ],
 "metadata": {
  "kernelspec": {
   "display_name": "Python 3",
   "language": "python",
   "name": "python3"
  }
 },
 "nbformat": 4,
 "nbformat_minor": 5
}
